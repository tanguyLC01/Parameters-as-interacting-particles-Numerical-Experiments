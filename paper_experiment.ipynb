{
  "nbformat": 4,
  "nbformat_minor": 0,
  "metadata": {
    "colab": {
      "provenance": []
    },
    "kernelspec": {
      "name": "python3",
      "display_name": "Python 3"
    },
    "language_info": {
      "name": "python"
    }
  },
  "cells": [
    {
      "cell_type": "code",
      "execution_count": 28,
      "metadata": {
        "id": "zvY-rO59UMjZ"
      },
      "outputs": [],
      "source": [
        "import numpy as np\n",
        "import torch\n",
        "import math\n",
        "from torch import nn"
      ]
    },
    {
      "cell_type": "code",
      "source": [
        "# Parameters\n",
        "d = 10  # Dimensionality\n",
        "# The number of samples is supposed to be infinite in the paper.\n",
        "batch_size = 50  # Batch size for training\n",
        "learning_rate = 1e-3  # Learning rate for SGD\n",
        "epochs = int(2e6)  # Number of training epochs\n",
        "np.random.seed(42)"
      ],
      "metadata": {
        "id": "AQ2v2y2LUQJG"
      },
      "execution_count": 29,
      "outputs": []
    },
    {
      "cell_type": "code",
      "source": [
        "def generate_3_spin_coefficients(d):\n",
        "    \"\"\"Generate random Gaussian coefficients a_pqr for the 3-spin model.\"\"\"\n",
        "    return np.random.normal(0, 1, size=(d, d, d))\n",
        "\n",
        "def spherical_3_spin(x, a):\n",
        "    \"\"\"Compute the 3-spin model function f(x).\"\"\"\n",
        "    f = np.einsum('pqr,p,q,r->', a, x, x, x)\n",
        "    return f / x.shape[0]\n",
        "\n",
        "def sample_from_sphere(d, n_samples):\n",
        "    \"\"\"Sample points from the d-dimensional sphere of radius sqrt(d).\"\"\"\n",
        "    x = np.random.normal(0, 1, size=(n_samples, d))\n",
        "    norms = np.linalg.norm(x, axis=1, keepdims=True)\n",
        "    return math.sqrt(d) * x / norms\n",
        "\n",
        "\n",
        "a = generate_3_spin_coefficients(d)"
      ],
      "metadata": {
        "id": "f0bDDJl-URgx"
      },
      "execution_count": 30,
      "outputs": []
    },
    {
      "cell_type": "code",
      "source": [
        "n_neurons = int(1e5)\n",
        "model = nn.Sequential(\n",
        "    nn.Linear(d, n_neurons),\n",
        "    nn.Linear(n_neurons, 1),\n",
        "    nn.ReLU(),\n",
        ")\n",
        "\n",
        "\n",
        "optimizer = torch.optim.SGD(model.parameters(), lr=learning_rate)\n",
        "criterion = nn.MSELoss(reduction='mean')\n",
        "\n",
        "for _ in range(epochs):\n",
        "    # Random batch\n",
        "    X_batch = sample_from_sphere(d, batch_size)\n",
        "    y_batch = np.array([spherical_3_spin(x, a) for x in X_batch]).reshape(-1, 1)\n",
        "\n",
        "    # To tensor\n",
        "    X_batch = torch.tensor(X_batch.astype(np.float32))\n",
        "    y_batch = torch.tensor(y_batch.astype(np.float32))\n",
        "\n",
        "    # Forward pass\n",
        "    predictions = model(X_batch)\n",
        "    loss = criterion(predictions, y_batch)\n",
        "\n",
        "    # Backward pass\n",
        "    optimizer.zero_grad()\n",
        "    loss.backward()\n",
        "    optimizer.step()\n",
        "\n",
        "   # Log progress\n",
        "    if _ % (epochs // 100) == 0:\n",
        "        print(f\"Step {_}/{epochs}, Loss: {loss.item():.4f}\")\n",
        "\n",
        "\n"
      ],
      "metadata": {
        "colab": {
          "base_uri": "https://localhost:8080/",
          "height": 349
        },
        "id": "sBDUSPhLUTXb",
        "outputId": "58e6d9c7-87cf-4e67-d7c5-db4ae8995e86"
      },
      "execution_count": 31,
      "outputs": [
        {
          "output_type": "stream",
          "name": "stdout",
          "text": [
            "Step 0/2000000, Loss: 6.9826\n"
          ]
        },
        {
          "output_type": "error",
          "ename": "KeyboardInterrupt",
          "evalue": "",
          "traceback": [
            "\u001b[0;31m---------------------------------------------------------------------------\u001b[0m",
            "\u001b[0;31mKeyboardInterrupt\u001b[0m                         Traceback (most recent call last)",
            "\u001b[0;32m<ipython-input-31-e4cc6dff2eda>\u001b[0m in \u001b[0;36m<cell line: 0>\u001b[0;34m()\u001b[0m\n\u001b[1;32m     12\u001b[0m \u001b[0;32mfor\u001b[0m \u001b[0m_\u001b[0m \u001b[0;32min\u001b[0m \u001b[0mrange\u001b[0m\u001b[0;34m(\u001b[0m\u001b[0mepochs\u001b[0m\u001b[0;34m)\u001b[0m\u001b[0;34m:\u001b[0m\u001b[0;34m\u001b[0m\u001b[0;34m\u001b[0m\u001b[0m\n\u001b[1;32m     13\u001b[0m     \u001b[0;31m# Random batch\u001b[0m\u001b[0;34m\u001b[0m\u001b[0;34m\u001b[0m\u001b[0m\n\u001b[0;32m---> 14\u001b[0;31m     \u001b[0mX_batch\u001b[0m \u001b[0;34m=\u001b[0m \u001b[0msample_from_sphere\u001b[0m\u001b[0;34m(\u001b[0m\u001b[0md\u001b[0m\u001b[0;34m,\u001b[0m \u001b[0mbatch_size\u001b[0m\u001b[0;34m)\u001b[0m\u001b[0;34m\u001b[0m\u001b[0;34m\u001b[0m\u001b[0m\n\u001b[0m\u001b[1;32m     15\u001b[0m     \u001b[0my_batch\u001b[0m \u001b[0;34m=\u001b[0m \u001b[0mnp\u001b[0m\u001b[0;34m.\u001b[0m\u001b[0marray\u001b[0m\u001b[0;34m(\u001b[0m\u001b[0;34m[\u001b[0m\u001b[0mspherical_3_spin\u001b[0m\u001b[0;34m(\u001b[0m\u001b[0mx\u001b[0m\u001b[0;34m,\u001b[0m \u001b[0ma\u001b[0m\u001b[0;34m)\u001b[0m \u001b[0;32mfor\u001b[0m \u001b[0mx\u001b[0m \u001b[0;32min\u001b[0m \u001b[0mX_batch\u001b[0m\u001b[0;34m]\u001b[0m\u001b[0;34m)\u001b[0m\u001b[0;34m.\u001b[0m\u001b[0mreshape\u001b[0m\u001b[0;34m(\u001b[0m\u001b[0;34m-\u001b[0m\u001b[0;36m1\u001b[0m\u001b[0;34m,\u001b[0m \u001b[0;36m1\u001b[0m\u001b[0;34m)\u001b[0m\u001b[0;34m\u001b[0m\u001b[0;34m\u001b[0m\u001b[0m\n\u001b[1;32m     16\u001b[0m \u001b[0;34m\u001b[0m\u001b[0m\n",
            "\u001b[0;32m<ipython-input-30-cb260e65e17f>\u001b[0m in \u001b[0;36msample_from_sphere\u001b[0;34m(d, n_samples)\u001b[0m\n\u001b[1;32m     10\u001b[0m \u001b[0;32mdef\u001b[0m \u001b[0msample_from_sphere\u001b[0m\u001b[0;34m(\u001b[0m\u001b[0md\u001b[0m\u001b[0;34m,\u001b[0m \u001b[0mn_samples\u001b[0m\u001b[0;34m)\u001b[0m\u001b[0;34m:\u001b[0m\u001b[0;34m\u001b[0m\u001b[0;34m\u001b[0m\u001b[0m\n\u001b[1;32m     11\u001b[0m     \u001b[0;34m\"\"\"Sample points from the d-dimensional sphere of radius sqrt(d).\"\"\"\u001b[0m\u001b[0;34m\u001b[0m\u001b[0;34m\u001b[0m\u001b[0m\n\u001b[0;32m---> 12\u001b[0;31m     \u001b[0mx\u001b[0m \u001b[0;34m=\u001b[0m \u001b[0mnp\u001b[0m\u001b[0;34m.\u001b[0m\u001b[0mrandom\u001b[0m\u001b[0;34m.\u001b[0m\u001b[0mnormal\u001b[0m\u001b[0;34m(\u001b[0m\u001b[0;36m0\u001b[0m\u001b[0;34m,\u001b[0m \u001b[0;36m1\u001b[0m\u001b[0;34m,\u001b[0m \u001b[0msize\u001b[0m\u001b[0;34m=\u001b[0m\u001b[0;34m(\u001b[0m\u001b[0mn_samples\u001b[0m\u001b[0;34m,\u001b[0m \u001b[0md\u001b[0m\u001b[0;34m)\u001b[0m\u001b[0;34m)\u001b[0m\u001b[0;34m\u001b[0m\u001b[0;34m\u001b[0m\u001b[0m\n\u001b[0m\u001b[1;32m     13\u001b[0m     \u001b[0mnorms\u001b[0m \u001b[0;34m=\u001b[0m \u001b[0mnp\u001b[0m\u001b[0;34m.\u001b[0m\u001b[0mlinalg\u001b[0m\u001b[0;34m.\u001b[0m\u001b[0mnorm\u001b[0m\u001b[0;34m(\u001b[0m\u001b[0mx\u001b[0m\u001b[0;34m,\u001b[0m \u001b[0maxis\u001b[0m\u001b[0;34m=\u001b[0m\u001b[0;36m1\u001b[0m\u001b[0;34m,\u001b[0m \u001b[0mkeepdims\u001b[0m\u001b[0;34m=\u001b[0m\u001b[0;32mTrue\u001b[0m\u001b[0;34m)\u001b[0m\u001b[0;34m\u001b[0m\u001b[0;34m\u001b[0m\u001b[0m\n\u001b[1;32m     14\u001b[0m     \u001b[0;32mreturn\u001b[0m \u001b[0mmath\u001b[0m\u001b[0;34m.\u001b[0m\u001b[0msqrt\u001b[0m\u001b[0;34m(\u001b[0m\u001b[0md\u001b[0m\u001b[0;34m)\u001b[0m \u001b[0;34m*\u001b[0m \u001b[0mx\u001b[0m \u001b[0;34m/\u001b[0m \u001b[0mnorms\u001b[0m\u001b[0;34m\u001b[0m\u001b[0;34m\u001b[0m\u001b[0m\n",
            "\u001b[0;31mKeyboardInterrupt\u001b[0m: "
          ]
        }
      ]
    },
    {
      "cell_type": "code",
      "source": [
        "# Step 4: Evaluate the Network\n",
        "def evaluate_network(model, X, y):\n",
        "    \"\"\"Compute the loss and signed discrepancy.\"\"\"\n",
        "    y_pred = model(torch.tensor(X.astype(np.float32)))\n",
        "    mse = criterion(y_pred, y)  # Mean squared error\n",
        "    relative = (y_pred - y)  * (y > 0)\n",
        "    signed_discrepancy = np.mean(relative.detach().numpy())  # Signed discrepancy for positive f(x)\n",
        "    return mse, signed_discrepancy\n",
        "\n",
        "mse, signed_discrepancy = evaluate_network(model, X, torch.tensor(y.astype(np.float32)))\n",
        "print(f\"Mean Squared Error: {mse}\")\n",
        "print(f\"Signed Discrepancy: {signed_discrepancy}\")"
      ],
      "metadata": {
        "colab": {
          "base_uri": "https://localhost:8080/"
        },
        "id": "Kx84NasmUUoY",
        "outputId": "c5123d25-9aae-4ce5-b110-cab4980640e9"
      },
      "execution_count": 25,
      "outputs": [
        {
          "output_type": "stream",
          "name": "stdout",
          "text": [
            "Mean Squared Error: 9.848605155944824\n",
            "Signed Discrepancy: -1.1606932878494263\n"
          ]
        }
      ]
    }
  ]
}